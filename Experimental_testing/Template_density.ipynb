{
 "cells": [
  {
   "cell_type": "code",
   "execution_count": 3,
   "id": "bd985078-4d3c-46ca-bb71-d8647dd05016",
   "metadata": {},
   "outputs": [],
   "source": [
    "import numpy as np \n",
    "import SC_search\n",
    "import matplotlib.pyplot as plt\n",
    "import scienceplots \n",
    "import matplotlib\n",
    "import itertools\n",
    "matplotlib.rcParams.update({'font.size': 22})\n",
    "plt.style.use('science')\n"
   ]
  },
  {
   "cell_type": "code",
   "execution_count": 4,
   "id": "a959fc03-8142-4b88-812f-6f9ea279f073",
   "metadata": {},
   "outputs": [],
   "source": [
    "# Frequency domain setup\n",
    "year_in_seconds = 365.25*24*60*60\n",
    "\n",
    "# Frequency bounds\n",
    "f_low = 0.018\n",
    "f_high = 0.03\n",
    "\n",
    "\n",
    "\n",
    "T_obs = (3*year_in_seconds)\n",
    "d = 1/(T_obs)\n",
    "safety = 10\n",
    "cadence = 2/(f_high*safety)\n",
    "\n",
    "freqs = np.arange(0.015,f_high+d,d)\n"
   ]
  },
  {
   "cell_type": "code",
   "execution_count": 5,
   "id": "2c33c9b2-1062-47c2-b3c7-8f8c1236f2e4",
   "metadata": {},
   "outputs": [],
   "source": [
    "Sdisp = SC_search.Noise.Sdisp_SciRD(freqs)\n",
    "Sopt = SC_search.Noise.Sopt_SciRD(freqs)\n",
    "psd_A = SC_search.Noise.psd_AEX(freqs,Sdisp,Sopt)\n",
    "psd_E = SC_search.Noise.psd_AEX(freqs,Sdisp,Sopt)\n",
    "psd_T = SC_search.Noise.psd_TX(freqs,Sdisp,Sopt)\n",
    "\n",
    "global psd_array\n",
    "psd_array = np.array([psd_A,psd_E,psd_T])"
   ]
  },
  {
   "cell_type": "code",
   "execution_count": 7,
   "id": "0e38fa82-62cd-4643-8bfc-2bdc8e21ff69",
   "metadata": {},
   "outputs": [],
   "source": [
    "source_parameters = np.array([28.09555579546043,#mc [sm]\n",
    "                    0.24710059171597634,#eta\n",
    "                    50.1*(1.e+6),#D\n",
    "                    np.pi/4,#beta [rads]\n",
    "                    2.01,#lambda [rads]\n",
    "                    2.498091544796509,#inc [rads]\n",
    "                    -1.851592653589793,#polarization [rads]\n",
    "                    0,#phi0 [rads]\n",
    "                    0.018/2,\n",
    "                    0.01])#e0\n",
    "\n",
    "finite_differences = np.array([0.0001,#mc\n",
    "                      0.00001,#eta\n",
    "                      0,#D       \n",
    "                      0.0001,#beta\n",
    "                      0.001,#lambda\n",
    "                      0.,#inc\n",
    "                      0.,#pol\n",
    "                      0.,#phi0\n",
    "                      1e-9,#f_low # Might need to be lower\n",
    "                      1e-4])#e0\n",
    "\n",
    "phasing_param_indexes = np.array([0,#mc\n",
    "                         3,#beta\n",
    "                         4,#lambda\n",
    "                         # 5,#inc\n",
    "                         # 6,#pol\n",
    "                         8,#f_low\n",
    "                         9])#e0\n",
    "\n",
    "\n",
    "\n"
   ]
  },
  {
   "cell_type": "code",
   "execution_count": 8,
   "id": "68645557-e038-4f27-88f7-48cb7659c221",
   "metadata": {},
   "outputs": [
    {
     "name": "stdout",
     "output_type": "stream",
     "text": [
      "Time to merger is:  3.5550937742535975  years\n",
      "Upper bound on time in band:  2.6438861012726447  years (no eccentricity evolution assumed)\n"
     ]
    }
   ],
   "source": [
    "source_params_transformed = SC_search.Utility.TaylorF2Ecc_mc_eta_to_m1m2(source_parameters.copy())\n",
    "# Use interpolation functionality from BBHx\n",
    "freqs_sparse = freqs[::1000]\n",
    "injection_signal= SC_search.Waveforms.TaylorF2Ecc.BBHx_response_interpolate_CPU(source_params_transformed,\n",
    "                                                                                  freqs_sparse,\n",
    "                                                                                  freqs,\n",
    "                                                                                  f_high,\n",
    "                                                                                  T_obs,\n",
    "                                                                                  'AET',\n",
    "                                                                                  logging=True)\n"
   ]
  },
  {
   "cell_type": "code",
   "execution_count": null,
   "id": "9b51b379-1a96-43d2-9601-67dff1e51c5e",
   "metadata": {},
   "outputs": [],
   "source": []
  },
  {
   "cell_type": "code",
   "execution_count": 9,
   "id": "d0d17b00-261c-4aa4-af1a-b1e1943239ad",
   "metadata": {},
   "outputs": [],
   "source": [
    "def waveform_generation(parameters):\n",
    "    '''\n",
    "    Generate a waveform \n",
    "    '''\n",
    "    params_transformed = SC_search.Utility.TaylorF2Ecc_mc_eta_to_m1m2(parameters.copy())\n",
    "    wf = SC_search.Waveforms.TaylorF2Ecc.BBHx_response_interpolate_CPU(params_transformed,\n",
    "                                                                                  freqs_sparse,\n",
    "                                                                                  freqs,\n",
    "                                                                                  f_high,\n",
    "                                                                                  T_obs,\n",
    "                                                                                  'AET',\n",
    "                                                                                  logging=False)\n",
    "    return(wf)\n",
    "    \n",
    "def second_derivative(params,indexes,num_segments):\n",
    "    '''\n",
    "    Compute numerical derivatives of the waveforms for computation of the metric on the parameter space wrt the semi-coherent match \n",
    "    '''\n",
    "\n",
    "    # If g_ii term\n",
    "    \n",
    "    if indexes[0] == indexes[1]:\n",
    "\n",
    "        forward = params.copy()\n",
    "        backward = params.copy()\n",
    "        \n",
    "        forward[indexes[0]] += finite_differences.copy()[indexes[0]]\n",
    "        backward[indexes[0]] -= finite_differences.copy()[indexes[0]]\n",
    "        \n",
    "        forward_term = SC_search.Semi_Coherent_Functions.semi_coherent_match(waveform_generation(forward.copy()),\n",
    "                                                                             waveform_generation(params.copy()),\n",
    "                                                                              psd_array,d,num_segments=num_segments)\n",
    "                        \n",
    "        backward_term = SC_search.Semi_Coherent_Functions.semi_coherent_match(waveform_generation(backward.copy()),\n",
    "                                                                              waveform_generation(params.copy()),\n",
    "                                                                              psd_array,d,num_segments=num_segments)\n",
    "                         \n",
    "        central_term = SC_search.Semi_Coherent_Functions.semi_coherent_match(waveform_generation(params.copy()),\n",
    "                                                                                  waveform_generation(params.copy()),\n",
    "                                                                                  psd_array,d,num_segments=num_segments)  \n",
    "        \n",
    "        \n",
    "        der = (forward_term+backward_term-2*central_term)/np.abs(finite_differences.copy()[indexes[0]])**2\n",
    "        \n",
    "    else:\n",
    "    # If g_ij\n",
    "        forward_i_j = params.copy()\n",
    "        backward_i_j = params.copy()\n",
    "        forward_i = params.copy()\n",
    "        forward_j = params.copy()\n",
    "        backward_i = params.copy()\n",
    "        backward_j = params.copy()\n",
    "\n",
    "\n",
    "        \n",
    "        forward_i_j[indexes] += finite_differences.copy()[indexes]\n",
    "        backward_i_j[indexes] -= finite_differences.copy()[indexes]\n",
    "\n",
    "        forward_i[indexes[0]] += finite_differences.copy()[indexes[0]]\n",
    "        forward_j[indexes[1]] += finite_differences.copy()[indexes[1]]\n",
    "\n",
    "        backward_i[indexes[0]] -= finite_differences.copy()[indexes[0]]\n",
    "        backward_j[indexes[1]] -= finite_differences.copy()[indexes[1]]\n",
    "\n",
    "        forward_ij_term = SC_search.Semi_Coherent_Functions.semi_coherent_match(waveform_generation(forward_i_j.copy()),\n",
    "                                                                                  waveform_generation(params.copy()),                                                                                  \n",
    "                                                                                  psd_array,d,num_segments=num_segments)\n",
    "                           \n",
    "        backward_ij_term = SC_search.Semi_Coherent_Functions.semi_coherent_match(waveform_generation(backward_i_j.copy()),\n",
    "                                                                                  waveform_generation(params.copy()), \n",
    "                                                                                  psd_array,d,num_segments=num_segments)\n",
    "\n",
    "        forward_i_term = SC_search.Semi_Coherent_Functions.semi_coherent_match(waveform_generation(forward_i.copy()),\n",
    "                                                                                  waveform_generation(params.copy()),\n",
    "                                                                                  psd_array,d,num_segments=num_segments)                            \n",
    "\n",
    "        forward_j_term = SC_search.Semi_Coherent_Functions.semi_coherent_match(waveform_generation(forward_j.copy()),\n",
    "                                                                                  waveform_generation(params.copy()),\n",
    "                                                                                  psd_array,d,num_segments=num_segments)     \n",
    "                          \n",
    "        backward_i_term = SC_search.Semi_Coherent_Functions.semi_coherent_match(waveform_generation(backward_i.copy()),\n",
    "                                                                                  waveform_generation(params.copy()),\n",
    "                                                                                  psd_array,d,num_segments=num_segments)                            \n",
    "\n",
    "        backward_j_term = SC_search.Semi_Coherent_Functions.semi_coherent_match(waveform_generation(backward_j.copy()),\n",
    "                                                                                  waveform_generation(params.copy()),\n",
    "                                                                                  psd_array,d,num_segments=num_segments)                            \n",
    "        \n",
    "        central_term = SC_search.Semi_Coherent_Functions.semi_coherent_match(waveform_generation(params.copy()),\n",
    "                                                                                  waveform_generation(params.copy()),\n",
    "                                                                                  psd_array,d,num_segments=num_segments)  \n",
    "        \n",
    "        der = 1/(2*finite_differences.copy()[indexes[0]]*finite_differences.copy()[indexes[1]])*(forward_ij_term\n",
    "                                                                                                 -forward_i_term\n",
    "                                                                                                 -forward_j_term\n",
    "                                                                                                 +2*central_term\n",
    "                                                                                                 -backward_i_term\n",
    "                                                                                                 -backward_j_term\n",
    "                                                                                                 +backward_ij_term)\n",
    "        \n",
    "    return(der)\n",
    "    \n",
    "def generate_metric(params,num_segments):\n",
    "    '''\n",
    "    Generate metric over all the phasing parameter. Put zeros in the spots for the other parameters.\n",
    "    '''\n",
    "\n",
    "    # Empty metric array\n",
    "    g_ij = np.zeros((params.size,params.size))\n",
    "    \n",
    "    for i in phasing_param_indexes:\n",
    "        for j in phasing_param_indexes:\n",
    "            index_pairs = (i,j)\n",
    "            g_ij[index_pairs] = -1/2*second_derivative(params.copy(),np.array(index_pairs),num_segments)\n",
    "    \n",
    "    return(g_ij)\n",
    "\n",
    "def subset_metric(g_ij_whole):\n",
    "    '''\n",
    "    Postprocess the metric down to just the phasing parameters. \n",
    "    '''\n",
    "    \n",
    "    g_ij_subset = np.zeros((phasing_param_indexes.size,phasing_param_indexes.size))\n",
    "    \n",
    "    for subset_index_i,i in enumerate(phasing_param_indexes):\n",
    "        for subset_index_j,j in enumerate(phasing_param_indexes):\n",
    "            g_ij_subset[subset_index_i,subset_index_j] = g_ij_whole[i,j]\n",
    "            \n",
    "    return(g_ij_subset)"
   ]
  },
  {
   "cell_type": "code",
   "execution_count": 11,
   "id": "935f16c3-ed66-4c6f-831c-ee9c6a7e53a4",
   "metadata": {},
   "outputs": [],
   "source": [
    "# Compute metrics at a number of segments around the injection point\n",
    "g_1 = subset_metric(generate_metric(source_parameters,1))\n",
    "# g_10 = subset_metric(generate_metric(source_parameters,10))\n",
    "# g_100 = subset_metric(generate_metric(source_parameters,100))\n",
    "# g_1000 = subset_metric(generate_metric(source_parameters,1000))"
   ]
  },
  {
   "cell_type": "code",
   "execution_count": 12,
   "id": "bafe2195-4aa5-447c-b748-f15341412869",
   "metadata": {},
   "outputs": [
    {
     "data": {
      "text/plain": [
       "38.031644871668014"
      ]
     },
     "execution_count": 12,
     "metadata": {},
     "output_type": "execute_result"
    }
   ],
   "source": [
    "SNR_squared = 4*np.real(np.sum(injection_signal*injection_signal.conj()/psd_array*d))\n",
    "SNR = np.sqrt(SNR_squared)\n",
    "SNR"
   ]
  },
  {
   "cell_type": "code",
   "execution_count": 13,
   "id": "84516464-ca99-4c9c-8466-c43f9cd17555",
   "metadata": {},
   "outputs": [
    {
     "name": "stdout",
     "output_type": "stream",
     "text": [
      "[2.94554719e-06 7.89392460e-04 8.45666939e-04 4.79313362e-11\n",
      " 2.42544065e-06]\n"
     ]
    }
   ],
   "source": [
    "# Width of peak in every dimension, ignoring covariances \n",
    "print(np.sqrt(np.diag(np.linalg.inv(g_1)/(2*SNR**2))))\n",
    "# print(np.sqrt(np.diag(np.linalg.inv(g_10)/(2*SNR**2))))\n",
    "# print(np.sqrt(np.diag(np.linalg.inv(g_100)/(2*SNR**2))))\n",
    "# print(np.sqrt(np.diag(np.linalg.inv(g_1000)/(2*SNR**2))))"
   ]
  },
  {
   "cell_type": "code",
   "execution_count": null,
   "id": "8ed1e6b8-7b65-4ce7-818d-3a936d8cbf86",
   "metadata": {},
   "outputs": [],
   "source": [
    "#Mc,f_low,e0"
   ]
  },
  {
   "cell_type": "code",
   "execution_count": 21,
   "id": "a871ee2b-60ad-4e39-a109-2b1faea8b0f7",
   "metadata": {},
   "outputs": [],
   "source": [
    "F = np.linalg.inv(g_1)/(2*SNR**2)"
   ]
  },
  {
   "cell_type": "code",
   "execution_count": null,
   "id": "0eb3d469-e527-4f84-a4c2-5641c668daf6",
   "metadata": {},
   "outputs": [],
   "source": []
  },
  {
   "cell_type": "code",
   "execution_count": 23,
   "id": "964f869e-6993-4916-8da2-d4936c49ad3c",
   "metadata": {},
   "outputs": [
    {
     "data": {
      "text/plain": [
       "1.7947667223849752e-28"
      ]
     },
     "execution_count": 23,
     "metadata": {},
     "output_type": "execute_result"
    }
   ],
   "source": [
    "np.sqrt(np.linalg.det(F))"
   ]
  },
  {
   "cell_type": "code",
   "execution_count": null,
   "id": "2fadc959-d6d5-46c3-93c6-8b0ea575629e",
   "metadata": {},
   "outputs": [],
   "source": []
  }
 ],
 "metadata": {
  "kernelspec": {
   "display_name": "Python 3 (ipykernel)",
   "language": "python",
   "name": "python3"
  },
  "language_info": {
   "codemirror_mode": {
    "name": "ipython",
    "version": 3
   },
   "file_extension": ".py",
   "mimetype": "text/x-python",
   "name": "python",
   "nbconvert_exporter": "python",
   "pygments_lexer": "ipython3",
   "version": "3.9.18"
  }
 },
 "nbformat": 4,
 "nbformat_minor": 5
}
