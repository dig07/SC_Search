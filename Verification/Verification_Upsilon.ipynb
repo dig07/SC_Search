{
 "cells": [
  {
   "cell_type": "code",
   "execution_count": 2,
   "id": "65286386-2e88-4d92-a491-278136e54687",
   "metadata": {},
   "outputs": [],
   "source": [
    "import numpy as np \n",
    "import SC_search\n",
    "import matplotlib.pyplot as plt\n",
    "import scienceplots \n",
    "import matplotlib\n",
    "matplotlib.rcParams.update({'font.size': 20})\n",
    "plt.style.use('science')"
   ]
  },
  {
   "cell_type": "code",
   "execution_count": 3,
   "id": "626aa094-ab4e-4087-aedc-5bfaf93c65b4",
   "metadata": {},
   "outputs": [],
   "source": [
    "# Frequency domain setup\n",
    "year_in_seconds = 365.25*24*60*60\n",
    "\n",
    "# Frequency bounds\n",
    "f_low = 0.018\n",
    "f_high = 0.03\n",
    "\n",
    "\n",
    "\n",
    "T_obs = (3*year_in_seconds)\n",
    "d = 1/(T_obs)\n",
    "safety = 10\n",
    "cadence = 2/(f_high*safety)\n",
    "\n",
    "freqs = np.arange(0.015,f_high+d,d)\n"
   ]
  },
  {
   "cell_type": "code",
   "execution_count": 4,
   "id": "93b3cda2-3b75-4de0-a712-209896325d0c",
   "metadata": {},
   "outputs": [],
   "source": [
    "source_parameters_1 = [28.09555579546043,#mc [sm]\n",
    "                    0.24710059171597634,#eta\n",
    "                    50.1*(1.e+6),#D\n",
    "                    np.pi/4,#beta [rads]\n",
    "                    2.01,#lambda [rads]\n",
    "                    2.498091544796509,#inc [rads]\n",
    "                    -1.851592653589793,#polarization [rads]\n",
    "                    0,#phi0 [rads]\n",
    "                    0.018/2,\n",
    "                    0.01]#e0\n",
    "\n",
    "source_parameters_2 = [28.09555579546043,#mc [sm]\n",
    "                    0.24710059171597634,#eta\n",
    "                    1000.1*(1.e+6),#D\n",
    "                    np.pi/4,#beta [rads]\n",
    "                    2.01,#lambda [rads]\n",
    "                    2.498091544796509,#inc [rads]\n",
    "                    -1.851592653589793,#polarization [rads]\n",
    "                    0,#phi0 [rads]\n",
    "                    0.018/2,\n",
    "                    0.01]#e0 \n",
    "\n"
   ]
  },
  {
   "cell_type": "code",
   "execution_count": 5,
   "id": "f4728244-039d-4f12-8ab8-dd563eeb4517",
   "metadata": {},
   "outputs": [],
   "source": [
    "source_params_transformed_1 = SC_search.Utility.TaylorF2Ecc_mc_eta_to_m1m2(source_parameters_1.copy())\n",
    "source_params_transformed_2 = SC_search.Utility.TaylorF2Ecc_mc_eta_to_m1m2(source_parameters_2.copy())\n"
   ]
  },
  {
   "cell_type": "code",
   "execution_count": 6,
   "id": "1311df3a-e341-44b6-9efa-e4003749fc88",
   "metadata": {},
   "outputs": [
    {
     "name": "stdout",
     "output_type": "stream",
     "text": [
      "Time to merger is:  3.5550937742535975  years\n",
      "Upper bound on time in band:  2.6438861012726447  years (no eccentricity evolution assumed)\n",
      "Time to merger is:  3.5550937742535975  years\n",
      "Upper bound on time in band:  2.6438861012726447  years (no eccentricity evolution assumed)\n"
     ]
    }
   ],
   "source": [
    "# Use interpolation functionality from BBHx\n",
    "freqs_sparse = freqs[::1000]\n",
    "signal_1= SC_search.Waveforms.TaylorF2Ecc.BBHx_response_interpolate_CPU(source_params_transformed_1,\n",
    "                                                                                  freqs_sparse,\n",
    "                                                                                  freqs,\n",
    "                                                                                  f_high,\n",
    "                                                                                  T_obs,\n",
    "                                                                                  'AET',\n",
    "                                                                                  logging=True)\n",
    "signal_2= SC_search.Waveforms.TaylorF2Ecc.BBHx_response_interpolate_CPU(source_params_transformed_2,\n",
    "                                                                                  freqs_sparse,\n",
    "                                                                                  freqs,\n",
    "                                                                                  f_high,\n",
    "                                                                                  T_obs,\n",
    "                                                                                  'AET',\n",
    "                                                                                  logging=True)\n",
    "\n",
    "\n"
   ]
  },
  {
   "cell_type": "code",
   "execution_count": 7,
   "id": "f8d67c18-6bbb-4664-998c-39700444c0ad",
   "metadata": {},
   "outputs": [],
   "source": [
    "Sdisp = SC_search.Noise.Sdisp_SciRD(freqs)\n",
    "Sopt = SC_search.Noise.Sopt_SciRD(freqs)\n",
    "psd_A = SC_search.Noise.psd_AEX(freqs,Sdisp,Sopt)\n",
    "psd_E = SC_search.Noise.psd_AEX(freqs,Sdisp,Sopt)\n",
    "psd_T = SC_search.Noise.psd_TX(freqs,Sdisp,Sopt)\n",
    "\n",
    "psd_array = np.array([psd_A,psd_E,psd_T])\n",
    "\n",
    "noise_A = SC_search.Noise.noise_realization(psd_A,T_obs)\n",
    "noise_E = SC_search.Noise.noise_realization(psd_E,T_obs)\n",
    "noise_T = SC_search.Noise.noise_realization(psd_T,T_obs)\n",
    "\n",
    "\n",
    "data_1 = signal_1 + np.array([noise_A,noise_E,noise_T])\n",
    "data_2 = signal_2 + np.array([noise_A,noise_E,noise_T])"
   ]
  },
  {
   "cell_type": "markdown",
   "id": "d0ad839f-a6c0-4fe0-9b52-e112cc2eb159",
   "metadata": {},
   "source": [
    "We have two sources with almost identical source properties except one has a much higher distance than the other. The search statistic is defined as the following: \n",
    "\n",
    "$$ \\Upsilon = \\sum_{j=1}^N \\rho_j^2 $$\n",
    "\n",
    "Where $\\rho_j$ is the *phase maximised SNR* in the jth segment. Defined as: \n",
    "\n",
    "$$\\rho_j = \\frac{<s|h_i>}{\\sqrt{<h_i|h_i>}} $$\n",
    "\n",
    "Because $h \\sim D^{-1}$, the dependence of $\\Upsilon$ on the model distance is divided out! So you dont need to search over distance. But fix it to some reasonable value to avoid numerical instabilities."
   ]
  },
  {
   "cell_type": "code",
   "execution_count": 8,
   "id": "0f02783f-2482-45c6-8549-d0f0aaf2be5c",
   "metadata": {},
   "outputs": [
    {
     "data": {
      "text/plain": [
       "1490.0585909018432"
      ]
     },
     "execution_count": 8,
     "metadata": {},
     "output_type": "execute_result"
    }
   ],
   "source": [
    "SC_search.Semi_Coherent_Functions.upsilon_func(signal_1,data_1,psd_array,d,num_segments=100)"
   ]
  },
  {
   "cell_type": "code",
   "execution_count": 9,
   "id": "9acc64c9-8c7a-4fdc-95db-37bc89e6e564",
   "metadata": {},
   "outputs": [
    {
     "data": {
      "text/plain": [
       "1490.0585909018432"
      ]
     },
     "execution_count": 9,
     "metadata": {},
     "output_type": "execute_result"
    }
   ],
   "source": [
    "SC_search.Semi_Coherent_Functions.upsilon_func(signal_2,data_1,psd_array,d,num_segments=100)"
   ]
  },
  {
   "cell_type": "code",
   "execution_count": 10,
   "id": "8419d021-aecd-45a9-9e3d-7552aeda95b5",
   "metadata": {},
   "outputs": [
    {
     "data": {
      "text/plain": [
       "1490.0585909018446"
      ]
     },
     "execution_count": 10,
     "metadata": {},
     "output_type": "execute_result"
    }
   ],
   "source": [
    "SC_search.Semi_Coherent_Functions.upsilon_func_masking(signal_2,data_1,psd_array,d,num_segments=100)"
   ]
  },
  {
   "cell_type": "code",
   "execution_count": null,
   "id": "33de2fb6-8c30-42bd-8486-ac31cd9e4d70",
   "metadata": {},
   "outputs": [],
   "source": []
  },
  {
   "cell_type": "code",
   "execution_count": null,
   "id": "ff08aa0a-a45f-4d6c-a167-b06919896320",
   "metadata": {},
   "outputs": [],
   "source": []
  },
  {
   "cell_type": "code",
   "execution_count": null,
   "id": "8cbbb9ea-0d7d-4c43-bbfb-14a84e3bfcaf",
   "metadata": {},
   "outputs": [],
   "source": []
  }
 ],
 "metadata": {
  "kernelspec": {
   "display_name": "Python 3 (ipykernel)",
   "language": "python",
   "name": "python3"
  },
  "language_info": {
   "codemirror_mode": {
    "name": "ipython",
    "version": 3
   },
   "file_extension": ".py",
   "mimetype": "text/x-python",
   "name": "python",
   "nbconvert_exporter": "python",
   "pygments_lexer": "ipython3",
   "version": "3.9.18"
  }
 },
 "nbformat": 4,
 "nbformat_minor": 5
}
